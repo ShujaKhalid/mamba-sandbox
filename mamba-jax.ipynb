{
 "cells": [
  {
   "cell_type": "code",
   "execution_count": 2,
   "outputs": [],
   "source": [
    "from functools import partial\n",
    "import jax\n",
    "import jax.numpy as np\n",
    "from flax import linen as nn\n",
    "from jax.nn.initializers import lecun_normal, normal\n",
    "from jax.numpy.linalg import eigh, inv, matrix_power\n",
    "from jax.scipy.signal import convolve\n"
   ],
   "metadata": {
    "collapsed": false,
    "ExecuteTime": {
     "end_time": "2023-12-29T21:43:35.250141Z",
     "start_time": "2023-12-29T21:43:34.739419Z"
    }
   },
   "id": "initial_id"
  },
  {
   "cell_type": "code",
   "execution_count": 6,
   "outputs": [],
   "source": [
    "if __name__ == \"__main__\":\n",
    "    rng = jax.random.PRNGKey(1)"
   ],
   "metadata": {
    "collapsed": false,
    "ExecuteTime": {
     "end_time": "2023-12-30T05:31:09.820264Z",
     "start_time": "2023-12-30T05:31:09.816579Z"
    }
   },
   "id": "17f9200e47ee44c4"
  },
  {
   "cell_type": "code",
   "execution_count": 14,
   "outputs": [],
   "source": [
    "# Create a random state space model\n",
    "# Note that A, B and C are learnable parameters\n",
    "def random_SSM(rng, N):\n",
    "    a_r, b_r, c_r = jax.random.split(rng, 3)\n",
    "    print(a_r, b_r, c_r)\n",
    "    A = jax.random.uniform(a_r, (N,N))\n",
    "    B = jax.random.uniform(b_r, (N,1))\n",
    "    C = jax.random.uniform(c_r, (1,N))\n",
    "    return A, B, C"
   ],
   "metadata": {
    "collapsed": false,
    "ExecuteTime": {
     "end_time": "2023-12-30T05:32:21.043437Z",
     "start_time": "2023-12-30T05:32:21.038652Z"
    }
   },
   "id": "10594656fc621e94"
  },
  {
   "cell_type": "code",
   "execution_count": 15,
   "outputs": [
    {
     "name": "stdout",
     "output_type": "stream",
     "text": [
      "[3568232559  713140391] [3620866055 2761185182] [2442350529 2639019713]\n",
      "(Array([[0.44898927]], dtype=float32), Array([[0.4015354]], dtype=float32), Array([[0.86350095]], dtype=float32))\n"
     ]
    }
   ],
   "source": [
    "N = 1\n",
    "print(random_SSM(rng, N))"
   ],
   "metadata": {
    "collapsed": false,
    "ExecuteTime": {
     "end_time": "2023-12-30T05:32:21.299008Z",
     "start_time": "2023-12-30T05:32:21.292316Z"
    }
   },
   "id": "aa7eb06c31ba962d"
  },
  {
   "cell_type": "code",
   "execution_count": null,
   "outputs": [],
   "source": [
    "# The recurrent representation is represented using a discrete-time SSM\n",
    "# To change our formulation from a continuous to discrete representation, we use the bi-linear method\n",
    "# to generate our recurrent representation\n",
    "# Ab = (A-(delta/2)*A)(A+(delta/2)*A)\n",
    "# where, delta is the step size\n",
    "def discrete_SSM(A, B, C, delta):\n",
    "    I = np.eye(A.shape(0))\n",
    "    AI = inv(I-(delta/2.0)*A)\n",
    "    Ab = AI @ (I+(delta/2.0)*A)\n",
    "    Bb = (AI*delta) @ B\n",
    "    Cb = C\n",
    "    return Ab, Bb, Cb\n",
    "\n",
    "# By discretizing the state space we allow for a recurrent relationship"
   ],
   "metadata": {
    "collapsed": false
   },
   "id": "c511d729037b5b0a"
  },
  {
   "cell_type": "code",
   "execution_count": 18,
   "outputs": [],
   "source": [
    "# the scan function is useful as it provides an optimized JAX specific recurrent update of input states\n",
    "def scan_SSM(Ab, Bb, Cb, u, x0):\n",
    "     def step(x_k_1, u_k):\n",
    "         x_k = Ab @ x_k_1 + Bb @ u_k\n",
    "         y_k = Cb @ x_k\n",
    "         return x_k, y_k?\n",
    "     return jax.lax.scan(step, u, x0)"
   ],
   "metadata": {
    "collapsed": false,
    "ExecuteTime": {
     "end_time": "2023-12-30T05:55:52.679177Z",
     "start_time": "2023-12-30T05:55:52.675085Z"
    }
   },
   "id": "eafef16e27989b29"
  },
  {
   "cell_type": "code",
   "execution_count": null,
   "outputs": [],
   "source": [
    "# Combine everything and run\n",
    "# 1) discretize \n",
    "# 2) run recurrent step"
   ],
   "metadata": {
    "collapsed": false
   },
   "id": "c4bcbf1e3df9fdee"
  },
  {
   "cell_type": "code",
   "execution_count": 22,
   "outputs": [],
   "source": [
    "def run(A, B, C, u):\n",
    "    L = u.shape[0]\n",
    "    N = A.shape[0]\n",
    "    Ab, Bb, Cb = discrete_SSM(A, B, C, delta=1.0/L)\n",
    "    return scan_SSM(Ab, Bb, Cb, u, np.zeros((N,)))"
   ],
   "metadata": {
    "collapsed": false,
    "ExecuteTime": {
     "end_time": "2023-12-30T06:02:05.366679Z",
     "start_time": "2023-12-30T06:02:05.360545Z"
    }
   },
   "id": "b010547bb55a0fda"
  },
  {
   "cell_type": "code",
   "execution_count": 23,
   "outputs": [
    {
     "name": "stdout",
     "output_type": "stream",
     "text": [
      "[3568232559  713140391] [3620866055 2761185182] [2442350529 2639019713]\n"
     ]
    },
    {
     "ename": "NameError",
     "evalue": "name 'u' is not defined",
     "output_type": "error",
     "traceback": [
      "\u001B[0;31m---------------------------------------------------------------------------\u001B[0m",
      "\u001B[0;31mNameError\u001B[0m                                 Traceback (most recent call last)",
      "Cell \u001B[0;32mIn[23], line 2\u001B[0m\n\u001B[1;32m      1\u001B[0m A, B, C \u001B[38;5;241m=\u001B[39m random_SSM(rng, N)\n\u001B[0;32m----> 2\u001B[0m run(A, B, C, \u001B[43mu\u001B[49m)\n",
      "\u001B[0;31mNameError\u001B[0m: name 'u' is not defined"
     ]
    }
   ],
   "source": [
    "A, B, C = random_SSM(rng, N)\n",
    "run(A, B, C, u)"
   ],
   "metadata": {
    "collapsed": false,
    "ExecuteTime": {
     "end_time": "2023-12-30T06:02:05.573928Z",
     "start_time": "2023-12-30T06:02:05.564161Z"
    }
   },
   "id": "6503b0ea70482786"
  },
  {
   "cell_type": "code",
   "execution_count": null,
   "outputs": [],
   "source": [],
   "metadata": {
    "collapsed": false
   },
   "id": "81670083553cfc17"
  }
 ],
 "metadata": {
  "kernelspec": {
   "display_name": "Python 3",
   "language": "python",
   "name": "python3"
  },
  "language_info": {
   "codemirror_mode": {
    "name": "ipython",
    "version": 2
   },
   "file_extension": ".py",
   "mimetype": "text/x-python",
   "name": "python",
   "nbconvert_exporter": "python",
   "pygments_lexer": "ipython2",
   "version": "2.7.6"
  }
 },
 "nbformat": 4,
 "nbformat_minor": 5
}
